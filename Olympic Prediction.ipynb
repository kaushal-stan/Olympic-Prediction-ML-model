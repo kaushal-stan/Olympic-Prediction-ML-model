{
 "cells": [
  {
   "cell_type": "markdown",
   "metadata": {},
   "source": [
    "# Import Dependencies"
   ]
  },
  {
   "cell_type": "code",
   "execution_count": 197,
   "metadata": {},
   "outputs": [],
   "source": [
    "# Import libraries necessary for this project\n",
    "import numpy as np\n",
    "import pandas as pd\n",
    "from time import time\n",
    "from IPython.display import display # Allows the use of display() for displaying DataFrames\n",
    "\n",
    "import matplotlib.pyplot as plt\n",
    "import seaborn as sns\n",
    "\n",
    "# Import supplementary visualization code visuals.py from project root folder\n",
    "import visuals as vs\n",
    "\n",
    "# Pretty display for notebooks\n",
    "%matplotlib inline"
   ]
  },
  {
   "cell_type": "markdown",
   "metadata": {},
   "source": [
    "# Reading Data "
   ]
  },
  {
   "cell_type": "code",
   "execution_count": 198,
   "metadata": {},
   "outputs": [],
   "source": [
    "#Reading data\n",
    "data = pd.read_csv(\"summer.csv\")"
   ]
  },
  {
   "cell_type": "markdown",
   "metadata": {},
   "source": [
    "# Manipulating Data "
   ]
  },
  {
   "cell_type": "code",
   "execution_count": 199,
   "metadata": {},
   "outputs": [],
   "source": [
    "#Selecting only the data of india\n",
    "data = data[data.Country == \"IND\"]\n",
    "#dataset = dataset.set_index(\"Sport\")\n",
    "#dataset = dataset.drop(\"Hockey\", axis=0)\n",
    "data.drop('Athlete', axis=1, inplace=True)\n",
    "data.drop_duplicates(inplace=True)"
   ]
  },
  {
   "cell_type": "markdown",
   "metadata": {},
   "source": [
    "# Statistical Analysis\n"
   ]
  },
  {
   "cell_type": "code",
   "execution_count": 200,
   "metadata": {},
   "outputs": [
    {
     "name": "stdout",
     "output_type": "stream",
     "text": [
      "Percentage Of Hockey Medals :42.31%\n",
      "Percentage Of Boxing Medals :7.69%\n",
      "Percentage Of Badminton Medals :3.85%\n",
      "Percentage Of Athletics Medals :7.69%\n",
      "Percentage Of Wrestling Medals :15.38%\n",
      "Percentage Of Weightlifting Medals :3.85%\n",
      "Percentage Of Tennis Medals :3.85%\n",
      "Percentage Of Shooting Medals :15.38%\n"
     ]
    }
   ],
   "source": [
    "#Total number of wins\n",
    "n_sport = data.shape[0]\n",
    "\n",
    "#Percentage of wins of each sport over total wins\n",
    "n_hockey = len(data[data.Sport == \"Hockey\"])\n",
    "n_hockey = (n_hockey)/(n_sport) * 100\n",
    "n_boxing = len(data[data.Sport == \"Boxing\"])\n",
    "n_boxing = (n_boxing)/(n_sport) * 100\n",
    "n_badminton = len(data[data.Sport == \"Badminton\"])\n",
    "n_badminton = (n_badminton)/(n_sport) * 100\n",
    "n_athletics = len(data[data.Sport == \"Athletics\"])\n",
    "n_athletics = (n_athletics)/(n_sport) * 100\n",
    "n_wrestling = len(data[data.Sport == \"Wrestling\"])\n",
    "n_wrestling = (n_wrestling)/(n_sport) * 100\n",
    "n_weightlifting = len(data[data.Sport == \"Weightlifting\"])\n",
    "n_weightlifting = (n_weightlifting)/(n_sport) * 100\n",
    "n_tennis = len(data[data.Sport == \"Tennis\"])\n",
    "n_tennis = (n_tennis)/(n_sport) * 100\n",
    "n_shooting = len(data[data.Sport == \"Shooting\"])\n",
    "n_shooting = (n_shooting)/(n_sport) * 100\n",
    "\n",
    "print (\"Percentage Of Hockey Medals :{:.2f}%\".format(n_hockey))\n",
    "print (\"Percentage Of Boxing Medals :{:.2f}%\".format(n_boxing))\n",
    "print (\"Percentage Of Badminton Medals :{:.2f}%\".format(n_badminton))\n",
    "print (\"Percentage Of Athletics Medals :{:.2f}%\".format(n_athletics))\n",
    "print (\"Percentage Of Wrestling Medals :{:.2f}%\".format(n_wrestling))\n",
    "print (\"Percentage Of Weightlifting Medals :{:.2f}%\".format(n_weightlifting))\n",
    "print (\"Percentage Of Tennis Medals :{:.2f}%\".format(n_tennis))\n",
    "print (\"Percentage Of Shooting Medals :{:.2f}%\".format(n_shooting))"
   ]
  },
  {
   "cell_type": "markdown",
   "metadata": {},
   "source": [
    "# Visualizing the Data"
   ]
  },
  {
   "cell_type": "code",
   "execution_count": 201,
   "metadata": {},
   "outputs": [
    {
     "data": {
      "text/plain": [
       "<matplotlib.axes._subplots.AxesSubplot at 0x1aa350392e8>"
      ]
     },
     "execution_count": 201,
     "metadata": {},
     "output_type": "execute_result"
    },
    {
     "data": {
      "image/png": "[encoded data removed]",
      "text/plain": [
       "<Figure size 432x288 with 1 Axes>"
      ]
     },
     "metadata": {},
     "output_type": "display_data"
    }
   ],
   "source": [
    "graph_dataset = data.groupby('Sport')['Year'].sum()\n",
    "graph_dataset.plot(kind='pie')"
   ]
  },
  {
   "cell_type": "markdown",
   "metadata": {},
   "source": [
    "# Adding Classifiers"
   ]
  },
  {
   "cell_type": "code",
   "execution_count": 202,
   "metadata": {},
   "outputs": [
    {
     "data": {
      "text/html": [
       "<div>\n",
       "<style scoped>\n",
       "    .dataframe tbody tr th:only-of-type {\n",
       "        vertical-align: middle;\n",
       "    }\n",
       "\n",
       "    .dataframe tbody tr th {\n",
       "        vertical-align: top;\n",
       "    }\n",
       "\n",
       "    .dataframe thead th {\n",
       "        text-align: right;\n",
       "    }\n",
       "</style>\n",
       "<table border=\"1\" class=\"dataframe\">\n",
       "  <thead>\n",
       "    <tr style=\"text-align: right;\">\n",
       "      <th></th>\n",
       "      <th>Year</th>\n",
       "      <th>Sport</th>\n",
       "      <th>WinRate</th>\n",
       "      <th>Probability</th>\n",
       "    </tr>\n",
       "  </thead>\n",
       "  <tbody>\n",
       "    <tr>\n",
       "      <th>241</th>\n",
       "      <td>1900</td>\n",
       "      <td>Athletics</td>\n",
       "      <td>7.692308</td>\n",
       "      <td>0</td>\n",
       "    </tr>\n",
       "    <tr>\n",
       "      <th>244</th>\n",
       "      <td>1900</td>\n",
       "      <td>Athletics</td>\n",
       "      <td>7.692308</td>\n",
       "      <td>0</td>\n",
       "    </tr>\n",
       "    <tr>\n",
       "      <th>5512</th>\n",
       "      <td>1928</td>\n",
       "      <td>Hockey</td>\n",
       "      <td>42.307692</td>\n",
       "      <td>1</td>\n",
       "    </tr>\n",
       "    <tr>\n",
       "      <th>6122</th>\n",
       "      <td>1932</td>\n",
       "      <td>Hockey</td>\n",
       "      <td>42.307692</td>\n",
       "      <td>1</td>\n",
       "    </tr>\n",
       "    <tr>\n",
       "      <th>6962</th>\n",
       "      <td>1936</td>\n",
       "      <td>Hockey</td>\n",
       "      <td>42.307692</td>\n",
       "      <td>1</td>\n",
       "    </tr>\n",
       "    <tr>\n",
       "      <th>7787</th>\n",
       "      <td>1948</td>\n",
       "      <td>Hockey</td>\n",
       "      <td>42.307692</td>\n",
       "      <td>1</td>\n",
       "    </tr>\n",
       "    <tr>\n",
       "      <th>8658</th>\n",
       "      <td>1952</td>\n",
       "      <td>Hockey</td>\n",
       "      <td>42.307692</td>\n",
       "      <td>1</td>\n",
       "    </tr>\n",
       "    <tr>\n",
       "      <th>8865</th>\n",
       "      <td>1952</td>\n",
       "      <td>Wrestling</td>\n",
       "      <td>15.384615</td>\n",
       "      <td>0</td>\n",
       "    </tr>\n",
       "    <tr>\n",
       "      <th>9547</th>\n",
       "      <td>1956</td>\n",
       "      <td>Hockey</td>\n",
       "      <td>42.307692</td>\n",
       "      <td>1</td>\n",
       "    </tr>\n",
       "    <tr>\n",
       "      <th>10451</th>\n",
       "      <td>1960</td>\n",
       "      <td>Hockey</td>\n",
       "      <td>42.307692</td>\n",
       "      <td>1</td>\n",
       "    </tr>\n",
       "    <tr>\n",
       "      <th>11355</th>\n",
       "      <td>1964</td>\n",
       "      <td>Hockey</td>\n",
       "      <td>42.307692</td>\n",
       "      <td>1</td>\n",
       "    </tr>\n",
       "    <tr>\n",
       "      <th>12388</th>\n",
       "      <td>1968</td>\n",
       "      <td>Hockey</td>\n",
       "      <td>42.307692</td>\n",
       "      <td>1</td>\n",
       "    </tr>\n",
       "    <tr>\n",
       "      <th>13519</th>\n",
       "      <td>1972</td>\n",
       "      <td>Hockey</td>\n",
       "      <td>42.307692</td>\n",
       "      <td>1</td>\n",
       "    </tr>\n",
       "    <tr>\n",
       "      <th>16087</th>\n",
       "      <td>1980</td>\n",
       "      <td>Hockey</td>\n",
       "      <td>42.307692</td>\n",
       "      <td>1</td>\n",
       "    </tr>\n",
       "    <tr>\n",
       "      <th>22981</th>\n",
       "      <td>1996</td>\n",
       "      <td>Tennis</td>\n",
       "      <td>3.846154</td>\n",
       "      <td>0</td>\n",
       "    </tr>\n",
       "    <tr>\n",
       "      <th>25113</th>\n",
       "      <td>2000</td>\n",
       "      <td>Weightlifting</td>\n",
       "      <td>3.846154</td>\n",
       "      <td>0</td>\n",
       "    </tr>\n",
       "    <tr>\n",
       "      <th>26870</th>\n",
       "      <td>2004</td>\n",
       "      <td>Shooting</td>\n",
       "      <td>15.384615</td>\n",
       "      <td>0</td>\n",
       "    </tr>\n",
       "    <tr>\n",
       "      <th>27922</th>\n",
       "      <td>2008</td>\n",
       "      <td>Boxing</td>\n",
       "      <td>7.692308</td>\n",
       "      <td>0</td>\n",
       "    </tr>\n",
       "    <tr>\n",
       "      <th>28856</th>\n",
       "      <td>2008</td>\n",
       "      <td>Shooting</td>\n",
       "      <td>15.384615</td>\n",
       "      <td>0</td>\n",
       "    </tr>\n",
       "    <tr>\n",
       "      <th>29165</th>\n",
       "      <td>2008</td>\n",
       "      <td>Wrestling</td>\n",
       "      <td>15.384615</td>\n",
       "      <td>0</td>\n",
       "    </tr>\n",
       "    <tr>\n",
       "      <th>29795</th>\n",
       "      <td>2012</td>\n",
       "      <td>Badminton</td>\n",
       "      <td>3.846154</td>\n",
       "      <td>0</td>\n",
       "    </tr>\n",
       "    <tr>\n",
       "      <th>29879</th>\n",
       "      <td>2012</td>\n",
       "      <td>Boxing</td>\n",
       "      <td>7.692308</td>\n",
       "      <td>0</td>\n",
       "    </tr>\n",
       "    <tr>\n",
       "      <th>30841</th>\n",
       "      <td>2012</td>\n",
       "      <td>Shooting</td>\n",
       "      <td>15.384615</td>\n",
       "      <td>0</td>\n",
       "    </tr>\n",
       "    <tr>\n",
       "      <th>30849</th>\n",
       "      <td>2012</td>\n",
       "      <td>Shooting</td>\n",
       "      <td>15.384615</td>\n",
       "      <td>0</td>\n",
       "    </tr>\n",
       "    <tr>\n",
       "      <th>31111</th>\n",
       "      <td>2012</td>\n",
       "      <td>Wrestling</td>\n",
       "      <td>15.384615</td>\n",
       "      <td>0</td>\n",
       "    </tr>\n",
       "    <tr>\n",
       "      <th>31118</th>\n",
       "      <td>2012</td>\n",
       "      <td>Wrestling</td>\n",
       "      <td>15.384615</td>\n",
       "      <td>0</td>\n",
       "    </tr>\n",
       "  </tbody>\n",
       "</table>\n",
       "</div>"
      ],
      "text/plain": [
       "       Year          Sport    WinRate  Probability\n",
       "241    1900      Athletics   7.692308            0\n",
       "244    1900      Athletics   7.692308            0\n",
       "5512   1928         Hockey  42.307692            1\n",
       "6122   1932         Hockey  42.307692            1\n",
       "6962   1936         Hockey  42.307692            1\n",
       "7787   1948         Hockey  42.307692            1\n",
       "8658   1952         Hockey  42.307692            1\n",
       "8865   1952      Wrestling  15.384615            0\n",
       "9547   1956         Hockey  42.307692            1\n",
       "10451  1960         Hockey  42.307692            1\n",
       "11355  1964         Hockey  42.307692            1\n",
       "12388  1968         Hockey  42.307692            1\n",
       "13519  1972         Hockey  42.307692            1\n",
       "16087  1980         Hockey  42.307692            1\n",
       "22981  1996         Tennis   3.846154            0\n",
       "25113  2000  Weightlifting   3.846154            0\n",
       "26870  2004       Shooting  15.384615            0\n",
       "27922  2008         Boxing   7.692308            0\n",
       "28856  2008       Shooting  15.384615            0\n",
       "29165  2008      Wrestling  15.384615            0\n",
       "29795  2012      Badminton   3.846154            0\n",
       "29879  2012         Boxing   7.692308            0\n",
       "30841  2012       Shooting  15.384615            0\n",
       "30849  2012       Shooting  15.384615            0\n",
       "31111  2012      Wrestling  15.384615            0\n",
       "31118  2012      Wrestling  15.384615            0"
      ]
     },
     "execution_count": 202,
     "metadata": {},
     "output_type": "execute_result"
    }
   ],
   "source": [
    "# Add a column of Winrate by checking the sport in each row and setting its percentage.\n",
    "def calculate_winrate(row):\n",
    "    if(row['Sport']) == 'Athletics':\n",
    "        return n_athletics\n",
    "    if(row['Sport']) == 'Hockey':\n",
    "        return n_hockey\n",
    "    if(row['Sport']) == 'Boxing':\n",
    "        return n_boxing\n",
    "    if(row['Sport']) == 'Badminton':\n",
    "        return n_badminton\n",
    "    if(row['Sport']) == 'Wrestling':\n",
    "        return n_wrestling\n",
    "    if(row['Sport']) == 'Weightlifting':\n",
    "        return n_weightlifting\n",
    "    if(row['Sport']) == 'Tennis':\n",
    "        return n_tennis\n",
    "    if(row['Sport']) == 'Shooting':\n",
    "        return n_shooting\n",
    "    \n",
    "    \n",
    "data['WinRate'] = data.apply(lambda row: calculate_winrate(row), axis=1)\n",
    "\n",
    "# 0 = low probability, 1 = some probability, 2 = High probability\n",
    "def get_probability(row):\n",
    "    if(0< row['WinRate'] <40):\n",
    "        return 0\n",
    "    if(41<row['WinRate']<70):\n",
    "        return 1\n",
    "    if(71<row['WinRate']<100):\n",
    "        return 2\n",
    "\n",
    "#Assigning the Probability values by checking the sport name and its percentage over total wins\n",
    "data['Probability'] = data.apply(lambda row: get_probability(row),axis=1)\n",
    "data.drop(['Discipline','City','Country','Gender','Event', 'Medal'], axis=1, inplace=True)\n",
    "data"
   ]
  },
  {
   "cell_type": "markdown",
   "metadata": {},
   "source": [
    "# Splitting the Data"
   ]
  },
  {
   "cell_type": "code",
   "execution_count": 203,
   "metadata": {},
   "outputs": [
    {
     "name": "stdout",
     "output_type": "stream",
     "text": [
      "Training set has 20 samples.\n",
      "Testing set has 6 samples.\n"
     ]
    }
   ],
   "source": [
    "#Splitting into feature and target label\n",
    "Probability = data['Probability']\n",
    "features = data.drop(['Probability', 'Sport'],axis=1)\n",
    "\n",
    "# Import train_test_split\n",
    "from sklearn.model_selection import train_test_split\n",
    "# Split the 'features' and 'income' data into training and testing sets\n",
    "X_train, X_test, Y_train, Y_test = train_test_split(features, \n",
    " Probability, \n",
    " test_size = 0.2, \n",
    " random_state = 0)\n",
    "# Show the results of the split\n",
    "print(\"Training set has {} samples.\".format(X_train.shape[0]))\n",
    "print(\"Testing set has {} samples.\".format(X_test.shape[0]))"
   ]
  },
  {
   "cell_type": "markdown",
   "metadata": {},
   "source": [
    "# Training, Predicting and Evaluating"
   ]
  },
  {
   "cell_type": "code",
   "execution_count": 204,
   "metadata": {},
   "outputs": [],
   "source": [
    "from sklearn.metrics import fbeta_score\n",
    "from sklearn.metrics import accuracy_score\n",
    "\n",
    "def train_predict_evaluate(learner, sample_size, X_train, Y_train, X_test, Y_test):\n",
    "    \n",
    "    results = {}\n",
    "    \n",
    "    start = time()\n",
    "    learner = learner.fit(X_train[:sample_size], Y_train[:sample_size])\n",
    "    end = time()\n",
    "    \n",
    "    results['Train Time'] = end - start\n",
    "    \n",
    "    start = time()\n",
    "    prediction_train = learner.predict(X_train[:20])\n",
    "    prediction_test = learner.predict(X_test)\n",
    "    \n",
    "    end = time()\n",
    "    \n",
    "    results['pred_time'] = end - start\n",
    "    results['acc_train'] = accuracy_score(Y_train[:20],prediction_train)\n",
    "    results['acc_test'] = accuracy_score(Y_test, prediction_test)\n",
    "    results['f_train'] = fbeta_score(Y_train[:20], prediction_train, beta=0.5, average='micro')\n",
    "    results['f_test'] = fbeta_score(Y_test, prediction_test, beta = 0.5, average= 'micro')\n",
    "    print (\"{} trained on {} samples\".format(learner.__class__.__name__, sample_size))\n",
    "    \n",
    "    return results\n"
   ]
  },
  {
   "cell_type": "code",
   "execution_count": 206,
   "metadata": {},
   "outputs": [
    {
     "name": "stdout",
     "output_type": "stream",
     "text": [
      "GaussianNB trained on 20 samples\n",
      "DecisionTreeClassifier trained on 20 samples\n",
      "RandomForestClassifier trained on 20 samples\n"
     ]
    }
   ],
   "source": [
    "# Import any three supervised learning classification models from sklearn\n",
    "from sklearn.naive_bayes import GaussianNB\n",
    "from sklearn.tree import DecisionTreeClassifier\n",
    "from sklearn.ensemble import RandomForestClassifier\n",
    "from sklearn.linear_model import LogisticRegression\n",
    "# Initialize the three models\n",
    "clf_A = GaussianNB()\n",
    "clf_B = DecisionTreeClassifier(max_depth=None, random_state=None)\n",
    "clf_C = RandomForestClassifier(max_depth=None, random_state=None)\n",
    "# Calculate the number of samples for 1%, 10%, and 100% of the training data\n",
    "# HINT: samples_100 is the entire training set i.e. len(y_train)\n",
    "# HINT: samples_10 is 10% of samples_100\n",
    "# HINT: samples_1 is 1% of samples_100\n",
    "samples_100 = len(Y_train)\n",
    "samples_10 = int(len(Y_train)*10/100)\n",
    "samples_1 = int(len(Y_train)*1/100)\n",
    "# Collect results on the learners\n",
    "results = {}\n",
    "for clf in [clf_A, clf_B, clf_C]:\n",
    "    clf_name = clf.__class__.__name__\n",
    "    results[clf_name] = {}\n",
    "    #for i, samples in enumerate([samples_1, samples_10, samples_100]):\n",
    "    results[clf_name][samples_100] = \\\n",
    "    train_predict_evaluate(clf, samples_100, X_train, Y_train, X_test, Y_test)\n",
    "#     print(results)\n",
    "# Run metrics visualization for the three supervised learning models chosen\n",
    "#vs.visualize_classification_performance(results)"
   ]
  },
  {
   "cell_type": "code",
   "execution_count": 218,
   "metadata": {},
   "outputs": [
    {
     "name": "stdout",
     "output_type": "stream",
     "text": [
      "Index(['Year', 'WinRate'], dtype='object')\n",
      "[0.22891738 0.77108262]\n"
     ]
    }
   ],
   "source": [
    "# Import a supervised learning model that has 'feature_importances_'\n",
    "model = RandomForestClassifier(max_depth=None, random_state=None)\n",
    "# Train the supervised model on the training set using .fit(X_train, y_train)\n",
    "model = model.fit(X_train, Y_train)\n",
    "# Extract the feature importances using .feature_importances_ \n",
    "importances = model.feature_importances_\n",
    "print(X_train.columns)\n",
    "print(importances)"
   ]
  },
  {
   "cell_type": "markdown",
   "metadata": {},
   "source": [
    "# Tuning our Model and comparing the accuracy and f-score"
   ]
  },
  {
   "cell_type": "code",
   "execution_count": 228,
   "metadata": {},
   "outputs": [
    {
     "name": "stdout",
     "output_type": "stream",
     "text": [
      "Unoptimized model\n",
      "------\n",
      "Accuracy score on testing data: 1.0000\n",
      "F-score on testing data: 1.0000\n",
      "\n",
      "Optimized Model\n",
      "------\n",
      "RandomForestClassifier(bootstrap=True, class_weight=None, criterion='gini',\n",
      "            max_depth=1, max_features=2, max_leaf_nodes=None,\n",
      "            min_impurity_decrease=0.0, min_impurity_split=None,\n",
      "            min_samples_leaf=1, min_samples_split=2,\n",
      "            min_weight_fraction_leaf=0.0, n_estimators=1, n_jobs=1,\n",
      "            oob_score=False, random_state=None, verbose=0,\n",
      "            warm_start=False)\n",
      "\n",
      "Final accuracy score on the testing data: 1.0000\n",
      "Final F-score on the testing data: 1.0000\n"
     ]
    }
   ],
   "source": [
    "# TODO: Import 'GridSearchCV', 'make_scorer', and any other necessary libraries\n",
    "from sklearn.model_selection import GridSearchCV\n",
    "from sklearn.metrics import make_scorer\n",
    "\n",
    "# TODO: Initialize the classifier\n",
    "clf = RandomForestClassifier(max_depth=None, random_state=None)\n",
    "\n",
    "# Create the parameters or base_estimators list you wish to tune, using a dictionary if needed.\n",
    "# Example: parameters = {'parameter_1': [value1, value2], 'parameter_2': [value1, value2]}\n",
    "\n",
    "\"\"\"\n",
    "n_estimators: Number of trees in the forest\n",
    "max_features: The number of features to consider when looking for the best split\n",
    "max_depth: The maximum depth of the tree\n",
    "\"\"\"\n",
    "parameters = {'n_estimators': [1, 2], 'max_features':[1,2], 'max_depth': [1,2]}\n",
    "\n",
    "# TODO: Make an fbeta_score scoring object using make_scorer()\n",
    "scorer = make_scorer(fbeta_score, beta=0.5, average=\"micro\")\n",
    "\n",
    "# TODO: Perform grid search on the claszsifier using 'scorer' as the scoring method using GridSearchCV()\n",
    "grid_obj = GridSearchCV(clf,parameters, scoring=scorer)\n",
    "\n",
    "# TODO: Fit the grid search object to the training data and find the optimal parameters using fit()\n",
    "grid_fit = grid_obj.fit(X_train, Y_train)\n",
    "\n",
    "# Get the estimator\n",
    "best_clf = grid_fit.best_estimator_\n",
    "\n",
    "# Make predictions using the unoptimized and model\n",
    "predictions = (clf.fit(X_train, Y_train)).predict(X_test)\n",
    "best_predictions = best_clf.predict(X_test)\n",
    "\n",
    "# Report the before-and-afterscores\n",
    "print(\"Unoptimized model\\n------\")\n",
    "print(\"Accuracy score on testing data: {:.4f}\".format(accuracy_score(Y_test, predictions)))\n",
    "print(\"F-score on testing data: {:.4f}\".format(fbeta_score(Y_test, predictions, beta = 0.5, average=\"micro\")))\n",
    "print(\"\\nOptimized Model\\n------\")\n",
    "print(best_clf)\n",
    "print(\"\\nFinal accuracy score on the testing data: {:.4f}\".format(accuracy_score(Y_test, best_predictions)))\n",
    "print(\"Final F-score on the testing data: {:.4f}\".format(fbeta_score(Y_test, best_predictions, beta = 0.5,  average=\"micro\")))"
   ]
  },
  {
   "cell_type": "markdown",
   "metadata": {},
   "source": [
    "# DONE"
   ]
  },
  {
   "cell_type": "code",
   "execution_count": null,
   "metadata": {},
   "outputs": [],
   "source": []
  }
 ],
 "metadata": {
  "kernelspec": {
   "display_name": "Python 3",
   "language": "python",
   "name": "python3"
  },
  "language_info": {
   "codemirror_mode": {
    "name": "ipython",
    "version": 3
   },
   "file_extension": ".py",
   "mimetype": "text/x-python",
   "name": "python",
   "nbconvert_exporter": "python",
   "pygments_lexer": "ipython3",
   "version": "3.6.5"
  }
 },
 "nbformat": 4,
 "nbformat_minor": 2
}
